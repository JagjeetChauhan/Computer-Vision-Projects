{
 "cells": [
  {
   "cell_type": "code",
   "execution_count": null,
   "id": "49482182",
   "metadata": {
    "_cell_guid": "b1076dfc-b9ad-4769-8c92-a6c4dae69d19",
    "_uuid": "8f2839f25d086af736a60e9eeb907d3b93b6e0e5",
    "execution": {
     "iopub.execute_input": "2025-01-22T09:33:55.996421Z",
     "iopub.status.busy": "2025-01-22T09:33:55.996057Z",
     "iopub.status.idle": "2025-01-22T09:34:13.363443Z",
     "shell.execute_reply": "2025-01-22T09:34:13.362148Z",
     "shell.execute_reply.started": "2025-01-22T09:33:55.996369Z"
    },
    "papermill": {
     "duration": null,
     "end_time": null,
     "exception": false,
     "start_time": "2025-01-22T11:48:47.840110",
     "status": "running"
    },
    "tags": []
   },
   "outputs": [],
   "source": [
    "import os\n",
    "import matplotlib.pyplot as plt\n",
    "import matplotlib.image as mpimg\n",
    "import numpy as np\n",
    "import tensorflow as tf\n",
    "from ipywidgets import widgets"
   ]
  },
  {
   "cell_type": "code",
   "execution_count": null,
   "id": "8e5b9f1c",
   "metadata": {
    "execution": {
     "iopub.execute_input": "2025-01-22T09:54:20.175587Z",
     "iopub.status.busy": "2025-01-22T09:54:20.175241Z",
     "iopub.status.idle": "2025-01-22T09:54:21.795441Z",
     "shell.execute_reply": "2025-01-22T09:54:21.794266Z",
     "shell.execute_reply.started": "2025-01-22T09:54:20.175562Z"
    },
    "papermill": {
     "duration": null,
     "end_time": null,
     "exception": null,
     "start_time": null,
     "status": "pending"
    },
    "tags": []
   },
   "outputs": [],
   "source": [
    "data_dir = \"/kaggle/input/horse-vs-human-dataset\"\n",
    "horse_dir = os.path.join(data_dir, \"horses\")\n",
    "human_dir = os.path.join(data_dir, \"humans\")\n",
    "\n",
    "horse_images = os.listdir(horse_dir)[:5]\n",
    "human_images = os.listdir(human_dir)[:5]\n",
    "\n",
    "def display_images(image_paths, title):\n",
    "    plt.figure(figsize=(10, 5))\n",
    "    for i, img_path in enumerate(image_paths):\n",
    "        img = mpimg.imread(img_path)\n",
    "        plt.subplot(1, len(image_paths), i + 1)\n",
    "        plt.imshow(img)\n",
    "        plt.axis('off')\n",
    "        plt.title(title)\n",
    "    plt.show()\n",
    "\n",
    "display_images([os.path.join(horse_dir, img) for img in horse_images], title = \"Horse\")\n",
    "display_images([os.path.join(human_dir, img) for img in human_images], title = \"Human\")"
   ]
  },
  {
   "cell_type": "code",
   "execution_count": null,
   "id": "13389b92",
   "metadata": {
    "execution": {
     "iopub.execute_input": "2025-01-22T10:16:14.369505Z",
     "iopub.status.busy": "2025-01-22T10:16:14.369107Z",
     "iopub.status.idle": "2025-01-22T10:16:14.389258Z",
     "shell.execute_reply": "2025-01-22T10:16:14.387999Z",
     "shell.execute_reply.started": "2025-01-22T10:16:14.369476Z"
    },
    "papermill": {
     "duration": null,
     "end_time": null,
     "exception": null,
     "start_time": null,
     "status": "pending"
    },
    "tags": []
   },
   "outputs": [],
   "source": [
    "print(f\"total training horse images: {len(os.listdir(horse_dir))}\")\n",
    "print(f\"total training horse images: {len(os.listdir(human_dir))}\")"
   ]
  },
  {
   "cell_type": "code",
   "execution_count": null,
   "id": "d54b45da",
   "metadata": {
    "execution": {
     "iopub.execute_input": "2025-01-22T10:23:07.328353Z",
     "iopub.status.busy": "2025-01-22T10:23:07.327975Z",
     "iopub.status.idle": "2025-01-22T10:23:07.547062Z",
     "shell.execute_reply": "2025-01-22T10:23:07.545507Z",
     "shell.execute_reply.started": "2025-01-22T10:23:07.328324Z"
    },
    "papermill": {
     "duration": null,
     "end_time": null,
     "exception": null,
     "start_time": null,
     "status": "pending"
    },
    "tags": []
   },
   "outputs": [],
   "source": [
    "model = tf.keras.models.Sequential([\n",
    "    tf.keras.Input(shape = (300,300,3)),\n",
    "    tf.keras.layers.Conv2D(16, (3,3), activation = 'relu'),\n",
    "    tf.keras.layers.MaxPooling2D(2, 2),\n",
    "    tf.keras.layers.Conv2D(32, (3,3), activation = 'relu'),\n",
    "    tf.keras.layers.MaxPooling2D(2,2),\n",
    "    tf.keras.layers.Conv2D(64, (3,3), activation = 'relu'),\n",
    "    tf.keras.layers.MaxPooling2D(2, 2),\n",
    "    tf.keras.layers.Conv2D(64, (3,3), activation = 'relu'),\n",
    "    tf.keras.layers.MaxPooling2D(2, 2),\n",
    "    tf.keras.layers.Conv2D(64, (3,3), activation = 'relu'),\n",
    "    tf.keras.layers.MaxPooling2D(2,2),\n",
    "    tf.keras.layers.Flatten(),\n",
    "    tf.keras.layers.Dense(512, activation = 'relu'),\n",
    "    tf.keras.layers.Dense(1, activation = 'sigmoid')\n",
    "])"
   ]
  },
  {
   "cell_type": "code",
   "execution_count": null,
   "id": "c0422cbf",
   "metadata": {
    "execution": {
     "iopub.execute_input": "2025-01-22T10:23:20.092025Z",
     "iopub.status.busy": "2025-01-22T10:23:20.091609Z",
     "iopub.status.idle": "2025-01-22T10:23:20.119189Z",
     "shell.execute_reply": "2025-01-22T10:23:20.118314Z",
     "shell.execute_reply.started": "2025-01-22T10:23:20.091995Z"
    },
    "papermill": {
     "duration": null,
     "end_time": null,
     "exception": null,
     "start_time": null,
     "status": "pending"
    },
    "tags": []
   },
   "outputs": [],
   "source": [
    "model.summary()"
   ]
  },
  {
   "cell_type": "code",
   "execution_count": null,
   "id": "5d7ac335",
   "metadata": {
    "execution": {
     "iopub.execute_input": "2025-01-22T10:24:58.059965Z",
     "iopub.status.busy": "2025-01-22T10:24:58.059545Z",
     "iopub.status.idle": "2025-01-22T10:24:58.077098Z",
     "shell.execute_reply": "2025-01-22T10:24:58.075921Z",
     "shell.execute_reply.started": "2025-01-22T10:24:58.059935Z"
    },
    "papermill": {
     "duration": null,
     "end_time": null,
     "exception": null,
     "start_time": null,
     "status": "pending"
    },
    "tags": []
   },
   "outputs": [],
   "source": [
    "model.compile(loss = 'binary_crossentropy', optimizer = tf.keras.optimizers.RMSprop(learning_rate = 0.001), metrics = ['accuracy'])"
   ]
  },
  {
   "cell_type": "code",
   "execution_count": null,
   "id": "19d270f1",
   "metadata": {
    "execution": {
     "iopub.execute_input": "2025-01-22T10:35:03.232505Z",
     "iopub.status.busy": "2025-01-22T10:35:03.232065Z",
     "iopub.status.idle": "2025-01-22T10:35:04.593077Z",
     "shell.execute_reply": "2025-01-22T10:35:04.591648Z",
     "shell.execute_reply.started": "2025-01-22T10:35:03.232475Z"
    },
    "papermill": {
     "duration": null,
     "end_time": null,
     "exception": null,
     "start_time": null,
     "status": "pending"
    },
    "tags": []
   },
   "outputs": [],
   "source": [
    "train_dataset = tf.keras.utils.image_dataset_from_directory(\n",
    "    data_dir, image_size = (300, 300), batch_size = 32, label_mode = 'binary')\n",
    "\n",
    "dataset_type = type(train_dataset)\n",
    "print(f\"train_dataset inherits from tf.data.Datset: {issubclass(dataset_type, tf.data.Dataset)}\")"
   ]
  },
  {
   "cell_type": "code",
   "execution_count": null,
   "id": "f3a61d49",
   "metadata": {
    "execution": {
     "iopub.execute_input": "2025-01-22T10:39:24.397957Z",
     "iopub.status.busy": "2025-01-22T10:39:24.397523Z",
     "iopub.status.idle": "2025-01-22T10:39:24.560247Z",
     "shell.execute_reply": "2025-01-22T10:39:24.559160Z",
     "shell.execute_reply.started": "2025-01-22T10:39:24.397882Z"
    },
    "papermill": {
     "duration": null,
     "end_time": null,
     "exception": null,
     "start_time": null,
     "status": "pending"
    },
    "tags": []
   },
   "outputs": [],
   "source": [
    "sample_batch = list(train_dataset.take(1))[0]\n",
    "\n",
    "print(f\"sample batch data type: {type(sample_batch)}\")\n",
    "print(f\"number of elements: {len(sample_batch)}\")\n",
    "\n",
    "image_batch = sample_batch[0]\n",
    "label_batch = sample_batch[1]\n",
    "\n",
    "print(f\"image batch shape: {image_batch.shape}\")\n",
    "print(f\"label batch shape: {label_batch.shape}\")"
   ]
  },
  {
   "cell_type": "code",
   "execution_count": null,
   "id": "e95be9c6",
   "metadata": {
    "execution": {
     "iopub.execute_input": "2025-01-22T10:44:35.424554Z",
     "iopub.status.busy": "2025-01-22T10:44:35.424201Z",
     "iopub.status.idle": "2025-01-22T10:44:35.431892Z",
     "shell.execute_reply": "2025-01-22T10:44:35.430781Z",
     "shell.execute_reply.started": "2025-01-22T10:44:35.424525Z"
    },
    "papermill": {
     "duration": null,
     "end_time": null,
     "exception": null,
     "start_time": null,
     "status": "pending"
    },
    "tags": []
   },
   "outputs": [],
   "source": [
    "print(image_batch[0].numpy())"
   ]
  },
  {
   "cell_type": "code",
   "execution_count": null,
   "id": "a3656d00",
   "metadata": {
    "execution": {
     "iopub.execute_input": "2025-01-22T10:41:46.198454Z",
     "iopub.status.busy": "2025-01-22T10:41:46.198048Z",
     "iopub.status.idle": "2025-01-22T10:41:46.207276Z",
     "shell.execute_reply": "2025-01-22T10:41:46.206231Z",
     "shell.execute_reply.started": "2025-01-22T10:41:46.198428Z"
    },
    "papermill": {
     "duration": null,
     "end_time": null,
     "exception": null,
     "start_time": null,
     "status": "pending"
    },
    "tags": []
   },
   "outputs": [],
   "source": [
    "print(f\"max value: {np.max(image_batch[0].numpy())}\")\n",
    "print(f\"min value: {np.min(image_batch[0].numpy())}\")"
   ]
  },
  {
   "cell_type": "code",
   "execution_count": null,
   "id": "72a6b21e",
   "metadata": {
    "execution": {
     "iopub.execute_input": "2025-01-22T10:42:25.817608Z",
     "iopub.status.busy": "2025-01-22T10:42:25.817275Z",
     "iopub.status.idle": "2025-01-22T10:42:25.823048Z",
     "shell.execute_reply": "2025-01-22T10:42:25.821719Z",
     "shell.execute_reply.started": "2025-01-22T10:42:25.817585Z"
    },
    "papermill": {
     "duration": null,
     "end_time": null,
     "exception": null,
     "start_time": null,
     "status": "pending"
    },
    "tags": []
   },
   "outputs": [],
   "source": [
    "rescale_layer = tf.keras.layers.Rescaling(scale = 1./255)"
   ]
  },
  {
   "cell_type": "code",
   "execution_count": null,
   "id": "d43d0390",
   "metadata": {
    "execution": {
     "iopub.execute_input": "2025-01-22T10:43:05.147096Z",
     "iopub.status.busy": "2025-01-22T10:43:05.146739Z",
     "iopub.status.idle": "2025-01-22T10:43:05.162360Z",
     "shell.execute_reply": "2025-01-22T10:43:05.161057Z",
     "shell.execute_reply.started": "2025-01-22T10:43:05.147070Z"
    },
    "papermill": {
     "duration": null,
     "end_time": null,
     "exception": null,
     "start_time": null,
     "status": "pending"
    },
    "tags": []
   },
   "outputs": [],
   "source": [
    "image_scaled = rescale_layer(image_batch[0]).numpy()\n",
    "print(image_scaled)"
   ]
  },
  {
   "cell_type": "code",
   "execution_count": null,
   "id": "124bb42e",
   "metadata": {
    "execution": {
     "iopub.execute_input": "2025-01-22T10:44:14.308793Z",
     "iopub.status.busy": "2025-01-22T10:44:14.308441Z",
     "iopub.status.idle": "2025-01-22T10:44:14.315065Z",
     "shell.execute_reply": "2025-01-22T10:44:14.313953Z",
     "shell.execute_reply.started": "2025-01-22T10:44:14.308767Z"
    },
    "papermill": {
     "duration": null,
     "end_time": null,
     "exception": null,
     "start_time": null,
     "status": "pending"
    },
    "tags": []
   },
   "outputs": [],
   "source": [
    "print(f\"max value: {np.max(image_scaled)}\")\n",
    "print(f\"min value: {np.min(image_scaled)}\")"
   ]
  },
  {
   "cell_type": "code",
   "execution_count": null,
   "id": "f919930f",
   "metadata": {
    "execution": {
     "iopub.execute_input": "2025-01-22T10:46:38.663439Z",
     "iopub.status.busy": "2025-01-22T10:46:38.662996Z",
     "iopub.status.idle": "2025-01-22T10:46:38.701829Z",
     "shell.execute_reply": "2025-01-22T10:46:38.700826Z",
     "shell.execute_reply.started": "2025-01-22T10:46:38.663408Z"
    },
    "papermill": {
     "duration": null,
     "end_time": null,
     "exception": null,
     "start_time": null,
     "status": "pending"
    },
    "tags": []
   },
   "outputs": [],
   "source": [
    "trained_dataset_scaled = train_dataset.map(lambda image, label: (rescale_layer(image), label))"
   ]
  },
  {
   "cell_type": "code",
   "execution_count": null,
   "id": "ccde051d",
   "metadata": {
    "execution": {
     "iopub.execute_input": "2025-01-22T10:55:38.705307Z",
     "iopub.status.busy": "2025-01-22T10:55:38.704925Z",
     "iopub.status.idle": "2025-01-22T10:55:38.901724Z",
     "shell.execute_reply": "2025-01-22T10:55:38.900584Z",
     "shell.execute_reply.started": "2025-01-22T10:55:38.705280Z"
    },
    "papermill": {
     "duration": null,
     "end_time": null,
     "exception": null,
     "start_time": null,
     "status": "pending"
    },
    "tags": []
   },
   "outputs": [],
   "source": [
    "sample_batch = list(trained_dataset_scaled.take(1))[0]\n",
    "\n",
    "image_scaled = sample_batch[0][1].numpy()\n",
    "# print(image_scaled)\n",
    "\n",
    "print(f\"max value: {np.max(image_scaled)}\")\n",
    "print(f\"min value: {np.min(image_scaled)}\")"
   ]
  },
  {
   "cell_type": "code",
   "execution_count": null,
   "id": "d9c3e0f2",
   "metadata": {
    "execution": {
     "iopub.execute_input": "2025-01-22T11:00:49.407014Z",
     "iopub.status.busy": "2025-01-22T11:00:49.406626Z",
     "iopub.status.idle": "2025-01-22T11:00:49.421293Z",
     "shell.execute_reply": "2025-01-22T11:00:49.420234Z",
     "shell.execute_reply.started": "2025-01-22T11:00:49.406985Z"
    },
    "papermill": {
     "duration": null,
     "end_time": null,
     "exception": null,
     "start_time": null,
     "status": "pending"
    },
    "tags": []
   },
   "outputs": [],
   "source": [
    "shuffle_buffer_size = 1000\n",
    "prefetch_buffer_size = tf.data.AUTOTUNE\n",
    "\n",
    "train_dataset_final = (trained_dataset_scaled\n",
    "                    .cache()\n",
    "                    .shuffle(shuffle_buffer_size)\n",
    "                    .prefetch(prefetch_buffer_size))"
   ]
  },
  {
   "cell_type": "code",
   "execution_count": null,
   "id": "c0d5b845",
   "metadata": {
    "execution": {
     "iopub.execute_input": "2025-01-22T11:01:38.293210Z",
     "iopub.status.busy": "2025-01-22T11:01:38.292786Z",
     "iopub.status.idle": "2025-01-22T11:16:23.122092Z",
     "shell.execute_reply": "2025-01-22T11:16:23.119943Z",
     "shell.execute_reply.started": "2025-01-22T11:01:38.293160Z"
    },
    "papermill": {
     "duration": null,
     "end_time": null,
     "exception": null,
     "start_time": null,
     "status": "pending"
    },
    "tags": []
   },
   "outputs": [],
   "source": [
    "history = model.fit(\n",
    "    train_dataset_final,\n",
    "    epochs = 15,\n",
    "    verbose = 2\n",
    ")"
   ]
  },
  {
   "cell_type": "code",
   "execution_count": null,
   "id": "9df7c6d7",
   "metadata": {
    "execution": {
     "iopub.execute_input": "2025-01-22T11:16:40.543023Z",
     "iopub.status.busy": "2025-01-22T11:16:40.542521Z",
     "iopub.status.idle": "2025-01-22T11:16:40.786289Z",
     "shell.execute_reply": "2025-01-22T11:16:40.785191Z",
     "shell.execute_reply.started": "2025-01-22T11:16:40.542978Z"
    },
    "papermill": {
     "duration": null,
     "end_time": null,
     "exception": null,
     "start_time": null,
     "status": "pending"
    },
    "tags": []
   },
   "outputs": [],
   "source": [
    "acc = history.history['accuracy']\n",
    "epochs = range(len(acc))\n",
    "plt.plot(epochs, acc, 'r', label = 'Training accuracy')\n",
    "plt.title('Training Accuracy')\n",
    "plt.legend(loc=0)\n",
    "plt.show()"
   ]
  },
  {
   "cell_type": "code",
   "execution_count": null,
   "id": "80b85389",
   "metadata": {
    "execution": {
     "iopub.execute_input": "2025-01-22T11:32:05.794981Z",
     "iopub.status.busy": "2025-01-22T11:32:05.794535Z",
     "iopub.status.idle": "2025-01-22T11:32:08.718395Z",
     "shell.execute_reply": "2025-01-22T11:32:08.717297Z",
     "shell.execute_reply.started": "2025-01-22T11:32:05.794946Z"
    },
    "papermill": {
     "duration": null,
     "end_time": null,
     "exception": null,
     "start_time": null,
     "status": "pending"
    },
    "tags": []
   },
   "outputs": [],
   "source": [
    "successive_outputs = [layer.output for layer in model.layers[1:]]\n",
    "visualization_model = tf.keras.models.Model(inputs = model.inputs, outputs = successive_outputs)\n",
    "\n",
    "horse_img_files = [os.path.join(horse_dir, f) for f in horse_images]\n",
    "human_img_files = [os.path.join(human_dir, f) for f in human_images]\n",
    "img_path = random.choice(horse_img_files + human_img_files)\n",
    "\n",
    "img = tf.keras.utils.load_img(img_path, target_size=(300, 300)) \n",
    "x = tf.keras.utils.img_to_array(img)\n",
    "x = x.reshape((1,) + x.shape)\n",
    "\n",
    "x = rescale_layer(x)\n",
    "\n",
    "successive_feature_maps = visualization_model.predict(x, verbose=False)\n",
    "\n",
    "\n",
    "layer_names = [layer.name for layer in model.layers[1:]]\n",
    "\n",
    "for layer_name, feature_map in zip(layer_names, successive_feature_maps):\n",
    "    if len(feature_map.shape) == 4:\n",
    "\n",
    "        n_features = feature_map.shape[-1]  \n",
    "        size = feature_map.shape[1]\n",
    "        display_grid = np.zeros((size, size * n_features))\n",
    "        for i in range(n_features):\n",
    "            x = feature_map[0, :, :, i]\n",
    "            x -= x.mean()\n",
    "            x /= x.std()\n",
    "            x *= 64\n",
    "            x += 128\n",
    "            x = np.clip(x, 0, 255).astype('uint8')\n",
    "            display_grid[:, i * size : (i + 1) * size] = x\n",
    "\n",
    "        scale = 20. / n_features\n",
    "        plt.figure(figsize=(scale * n_features, scale))\n",
    "        plt.title(layer_name)\n",
    "        plt.grid(False)\n",
    "        plt.imshow(display_grid, aspect='auto', cmap='viridis')"
   ]
  },
  {
   "cell_type": "code",
   "execution_count": null,
   "id": "0ba538e4",
   "metadata": {
    "execution": {
     "iopub.execute_input": "2025-01-22T11:46:42.691879Z",
     "iopub.status.busy": "2025-01-22T11:46:42.691489Z",
     "iopub.status.idle": "2025-01-22T11:46:42.709674Z",
     "shell.execute_reply": "2025-01-22T11:46:42.708510Z",
     "shell.execute_reply.started": "2025-01-22T11:46:42.691848Z"
    },
    "papermill": {
     "duration": null,
     "end_time": null,
     "exception": null,
     "start_time": null,
     "status": "pending"
    },
    "tags": []
   },
   "outputs": [],
   "source": [
    "from io import BytesIO\n",
    "\n",
    "uploader = widgets.FileUpload(accept = \"image/*\", multiple = True)\n",
    "display(uploader)\n",
    "out = widgets.Output()\n",
    "display(out)\n",
    "\n",
    "def file_predict(filename, file, out):\n",
    "    image = tf.keras.utils.load_img(file, target_size = (300, 300))\n",
    "    image = tf.keras.utils.img_to_array(image)\n",
    "    image = rescale_layer(image)\n",
    "    image = np.expand_dims(image, axis = 0)\n",
    "\n",
    "    prediction = model.predict(image, verbose = 0)[0][0]\n",
    "\n",
    "    with out:\n",
    "        if prediction > 0.5:\n",
    "            print(filename + \" is a human\")\n",
    "        else:\n",
    "            print(filename + \" is a horse\")\n",
    "\n",
    "def on_upload_change(change):\n",
    "    items = change.new\n",
    "    for item in items:\n",
    "        file_jpgdata = BytesIO(item.content)\n",
    "        file_predict(item.name, file_jpgdata, out)\n",
    "\n",
    "uploader.observe(on_upload_change, names = 'value')"
   ]
  },
  {
   "cell_type": "code",
   "execution_count": null,
   "id": "146ce725",
   "metadata": {
    "papermill": {
     "duration": null,
     "end_time": null,
     "exception": null,
     "start_time": null,
     "status": "pending"
    },
    "tags": []
   },
   "outputs": [],
   "source": []
  }
 ],
 "metadata": {
  "kaggle": {
   "accelerator": "none",
   "dataSources": [
    {
     "datasetId": 6525696,
     "sourceId": 10547037,
     "sourceType": "datasetVersion"
    }
   ],
   "dockerImageVersionId": 30839,
   "isGpuEnabled": false,
   "isInternetEnabled": true,
   "language": "python",
   "sourceType": "notebook"
  },
  "kernelspec": {
   "display_name": "Python 3",
   "language": "python",
   "name": "python3"
  },
  "language_info": {
   "codemirror_mode": {
    "name": "ipython",
    "version": 3
   },
   "file_extension": ".py",
   "mimetype": "text/x-python",
   "name": "python",
   "nbconvert_exporter": "python",
   "pygments_lexer": "ipython3",
   "version": "3.10.12"
  },
  "papermill": {
   "default_parameters": {},
   "duration": null,
   "end_time": null,
   "environment_variables": {},
   "exception": null,
   "input_path": "__notebook__.ipynb",
   "output_path": "__notebook__.ipynb",
   "parameters": {},
   "start_time": "2025-01-22T11:48:44.609189",
   "version": "2.6.0"
  }
 },
 "nbformat": 4,
 "nbformat_minor": 5
}